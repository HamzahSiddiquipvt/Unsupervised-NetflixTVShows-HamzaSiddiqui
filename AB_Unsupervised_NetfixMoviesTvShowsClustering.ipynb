{
  "nbformat": 4,
  "nbformat_minor": 0,
  "metadata": {
    "colab": {
      "private_outputs": true,
      "provenance": [],
      "collapsed_sections": [
        "Y3lxredqlCYt",
        "3RnN4peoiCZX",
        "x71ZqKXriCWQ",
        "7hBIi_osiCS2",
        "JlHwYmJAmNHm",
        "35m5QtbWiB9F",
        "PoPl-ycgm1ru",
        "H0kj-8xxnORC",
        "PBTbrJXOngz2",
        "u3PMJOP6ngxN",
        "bKJF3rekwFvQ",
        "MSa1f5Uengrz",
        "0wOQAZs5pc--",
        "K5QZ13OEpz2H",
        "lQ7QKXXCp7Bj",
        "448CDAPjqfQr",
        "KSlN3yHqYklG",
        "t6dVpIINYklI",
        "ijmpgYnKYklI",
        "-JiQyfWJYklI",
        "EM7whBJCYoAo",
        "fge-S5ZAYoAp",
        "85gYPyotYoAp",
        "RoGjAbkUYoAp",
        "4Of9eVA-YrdM",
        "iky9q4vBYrdO",
        "F6T5p64dYrdO",
        "y-Ehk30pYrdP",
        "bamQiAODYuh1",
        "QHF8YVU7Yuh3",
        "GwzvFGzlYuh3",
        "OH-pJp9IphqM",
        "bbFf2-_FphqN",
        "_ouA3fa0phqN",
        "Seke61FWphqN",
        "PIIx-8_IphqN",
        "t27r6nlMphqO",
        "r2jJGEOYphqO",
        "b0JNsNcRphqO",
        "id1riN9m0vUs",
        "578E2V7j08f6",
        "89xtkJwZ18nB",
        "67NQN5KX2AMe",
        "Iwf50b-R2tYG",
        "GMQiZwjn3iu7",
        "WVIkgGqN3qsr",
        "XkPnILGE3zoT",
        "mT9DMSJo4nBL",
        "OeJFEK0N496M",
        "cJNqERVU536h",
        "T0VqWOYE6DLQ",
        "qBMux9mC6MCf",
        "VfCC591jGiD4",
        "gIfDvo9L0UH2"
      ],
      "include_colab_link": true
    },
    "kernelspec": {
      "name": "python3",
      "display_name": "Python 3"
    },
    "language_info": {
      "name": "python"
    }
  },
  "cells": [
    {
      "cell_type": "markdown",
      "metadata": {
        "id": "view-in-github",
        "colab_type": "text"
      },
      "source": [
        "<a href=\"https://colab.research.google.com/github/HamzahSiddiquipvt/Unsupervised-NetflixTVShows-HamzaSiddiqui/blob/main/AB_Unsupervised_NetfixMoviesTvShowsClustering.ipynb\" target=\"_parent\"><img src=\"https://colab.research.google.com/assets/colab-badge.svg\" alt=\"Open In Colab\"/></a>"
      ]
    },
    {
      "cell_type": "markdown",
      "source": [
        "![netflix-icon-filled-256.png](data:image/png;base64,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)"
      ],
      "metadata": {
        "id": "OuEq5L2szJ3e"
      }
    },
    {
      "cell_type": "markdown",
      "source": [
        "# **Project Name**    - Netfix Movies and Tv Shows Clustering\n",
        "\n"
      ],
      "metadata": {
        "id": "vncDsAP0Gaoa"
      }
    },
    {
      "cell_type": "markdown",
      "source": [
        "##### **Project Type**    - Unsupervised\n",
        "##### **Team Member 1     - Hamza Siddiqui**\n"
      ],
      "metadata": {
        "id": "beRrZCGUAJYm"
      }
    },
    {
      "cell_type": "markdown",
      "source": [
        "# **Project Summary -**"
      ],
      "metadata": {
        "id": "FJNUwmbgGyua"
      }
    },
    {
      "cell_type": "markdown",
      "source": [
        "With more than 83 million subscribers and presence in more than 190\n",
        "countries, Netflix is the most popular Internet television network in the\n",
        "world. Its users watch more than 125 million hours of TV and movie\n",
        "content daily, including original series, documentaries, and feature films.\n",
        "On almost any screen that is linked to the Internet, members can watch\n",
        "as much as they want, whenever and wherever. Without interruptions or\n",
        "obligations, members can play, pause, and resume watching at any time.\n",
        "\n",
        "\n",
        "In this project, I have done\n",
        "\n",
        "●1.Exploratory Data Analysis\n",
        "\n",
        "● 2.Understanding what type content is available in different countries\n",
        "\n",
        "● 3.Is Netflix increasingly focusing on TV rather than movies in recent years.\n",
        "\n",
        "● 4.Clustering similar content by matching text-based features\n",
        "\n",
        "The goal of this project is to classify/group the Netflix shows into certain clusters such that\n",
        "movie and TV shows that are in the same cluster/group should have similar properties\n",
        "and/or features, while data points in different groups should have highly dissimilar\n",
        "properties and/or features.\n",
        "\n",
        "Detailed workflow:\n",
        "1. Analyze Data: In this initial step we went to look for different features available and tried to understand the\n",
        "data. During this stage, we looked for the shape of data, data types of each feature, statistical summary etc.\n",
        "\n",
        "2. EDA: EDA or Exploratory Data Analysis is the critical process of performing the initial investigation on the\n",
        "data. So, through this we have observed certain trends and dependencies and drawn certain conclusions\n",
        "from the dataset that will be useful for further processing.\n",
        "\n",
        "3. Data Cleaning: Checked duplicated values present in the dataset. After that comes the null value and\n",
        "outlier detection and treatment. For the null values imputation we simply replace with empty string and\n",
        "drop some of the null rows then analyze outlier and handling.\n",
        "\n",
        "4. Textual Data Preprocessing: During this stage, cluster the data based on the attributes: director, cast,\n",
        "country, genre, rating and description. Data preprocessing include Remove all stop words and punctuation\n",
        "marks, convert all textual data to lowercase. Stemming to generate a meaningful word out of corpus of\n",
        "words. Tokenization of corpus and Word vectorization. We used Principal Component Analysis (PCA) to\n",
        "handle the curse of dimensionality.\n",
        "\n",
        "5. Clusters Implementation: Use K-Means and Agglomerative Hierarchical clustering algorithms to cluster\n",
        "the movies, obtain the optimal number of clusters using different techniques.\n",
        "\n",
        "6. Build Content Based Recommendation System: A content-based recommender system was built using\n",
        "the similarity matrix obtained after using cosine similarity. This recommender system will display 10\n",
        "recommendations to the user based on the type of movie/show they watched.\n",
        "\n"
      ],
      "metadata": {
        "id": "F6v_1wHtG2nS"
      }
    },
    {
      "cell_type": "markdown",
      "source": [
        "# **GitHub Link -**"
      ],
      "metadata": {
        "id": "w6K7xa23Elo4"
      }
    },
    {
      "cell_type": "markdown",
      "source": [
        "https://github.com/HamzahSiddiquipvt/Unsupervised-Netflix-HamzaSiddiqui.git"
      ],
      "metadata": {
        "id": "h1o69JH3Eqqn"
      }
    },
    {
      "cell_type": "markdown",
      "source": [
        "# **Problem Statement**\n"
      ],
      "metadata": {
        "id": "yQaldy8SH6Dl"
      }
    },
    {
      "cell_type": "markdown",
      "source": [
        "\n",
        "This dataset consists of tv shows and movies available on Netflix as of 2019. The\n",
        "dataset is collected from Flexible which is a third-party Netflix search engine.\n",
        "In 2018, they released an interesting report which shows that the number of TV\n",
        "shows on Netflix has nearly tripled since 2010. The streaming services number of\n",
        "movies has decreased by more than 2,000 titles since 2010, while its number of\n",
        "TV shows has nearly tripled. It will be interesting to explore what all other\n",
        "insights can be obtained from the same dataset."
      ],
      "metadata": {
        "id": "DpeJGUA3kjGy"
      }
    },
    {
      "cell_type": "markdown",
      "source": [
        "# **General Guidelines** : -  "
      ],
      "metadata": {
        "id": "mDgbUHAGgjLW"
      }
    },
    {
      "cell_type": "markdown",
      "source": [
        "1.   Well-structured, formatted, and commented code is required.\n",
        "2.   Exception Handling, Production Grade Code & Deployment Ready Code will be a plus. Those students will be awarded some additional credits.\n",
        "     \n",
        "     The additional credits will have advantages over other students during Star Student selection.\n",
        "       \n",
        "             [ Note: - Deployment Ready Code is defined as, the whole .ipynb notebook should be executable in one go\n",
        "                       without a single error logged. ]\n",
        "\n",
        "3.   Each and every logic should have proper comments.\n",
        "4. You may add as many number of charts you want. Make Sure for each and every chart the following format should be answered.\n",
        "        \n",
        "\n",
        "```\n",
        "# Chart visualization code\n",
        "```\n",
        "            \n",
        "\n",
        "*   Why did you pick the specific chart?\n",
        "*   What is/are the insight(s) found from the chart?\n",
        "* Will the gained insights help creating a positive business impact?\n",
        "Are there any insights that lead to negative growth? Justify with specific reason.\n",
        "\n",
        "5. You have to create at least 15 logical & meaningful charts having important insights.\n",
        "\n",
        "\n",
        "[ Hints : - Do the Vizualization in  a structured way while following \"UBM\" Rule.\n",
        "\n",
        "U - Univariate Analysis,\n",
        "\n",
        "B - Bivariate Analysis (Numerical - Categorical, Numerical - Numerical, Categorical - Categorical)\n",
        "\n",
        "M - Multivariate Analysis\n",
        " ]\n",
        "\n",
        "\n",
        "\n",
        "\n",
        "\n",
        "6. You may add more ml algorithms for model creation. Make sure for each and every algorithm, the following format should be answered.\n",
        "\n",
        "\n",
        "*   Explain the ML Model used and it's performance using Evaluation metric Score Chart.\n",
        "\n",
        "\n",
        "*   Cross- Validation & Hyperparameter Tuning\n",
        "\n",
        "*   Have you seen any improvement? Note down the improvement with updates Evaluation metric Score Chart.\n",
        "\n",
        "*   Explain each evaluation metric's indication towards business and the business impact pf the ML model used.\n",
        "\n",
        "\n",
        "\n",
        "\n",
        "\n",
        "\n",
        "\n",
        "\n",
        "\n",
        "\n",
        "\n",
        "\n",
        "\n",
        "\n",
        "\n",
        "\n",
        "\n",
        "\n"
      ],
      "metadata": {
        "id": "ZrxVaUj-hHfC"
      }
    },
    {
      "cell_type": "markdown",
      "source": [
        "# ***Let's Begin !***"
      ],
      "metadata": {
        "id": "O_i_v8NEhb9l"
      }
    },
    {
      "cell_type": "markdown",
      "source": [
        "## ***1. Know Your Data***"
      ],
      "metadata": {
        "id": "HhfV-JJviCcP"
      }
    },
    {
      "cell_type": "markdown",
      "source": [
        "### Import Libraries"
      ],
      "metadata": {
        "id": "Y3lxredqlCYt"
      }
    },
    {
      "cell_type": "code",
      "source": [
        "# Import Libraries\n",
        "\n",
        "import numpy as np\n",
        "import pandas as pd\n",
        "\n",
        "#Plotting graphs\n",
        "import seaborn as sns\n",
        "import matplotlib.pyplot as plt\n",
        "from matplotlib.pyplot import figure\n",
        "from matplotlib import rcParams\n",
        "\n",
        "#Date time conversion\n",
        "from datetime import datetime\n",
        "\n",
        "#Installations\n",
        "!pip install contractions\n",
        "!pip install ntlk\n",
        "\n",
        "#sklearn\n",
        "from sklearn.feature_extraction.text import CountVectorizer, TfidfVectorizer\n",
        "from sklearn.metrics.pairwise import cosine_similarity\n",
        "from sklearn.decomposition import PCA\n",
        "from sklearn.cluster import KMeans,AgglomerativeClustering\n",
        "from sklearn.metrics import silhouette_score\n",
        "from sklearn.preprocessing import LabelEncoder\n",
        "from sklearn.feature_extraction.text import TfidfVectorizer,CountVectorizer\n",
        "from sklearn.metrics import davies_bouldin_score\n",
        "import scipy.cluster.hierarchy as shc\n",
        "\n",
        "#wordcloud\n",
        "from wordcloud import WordCloud, STOPWORDS, ImageColorGenerator\n",
        "\n",
        "#nltk\n",
        "import nltk\n",
        "nltk.download('wordnet')\n",
        "nltk.download('stopwords')\n",
        "from nltk.corpus import stopwords\n",
        "from nltk.tokenize import TweetTokenizer\n",
        "from nltk.stem import WordNetLemmatizer\n",
        "\n",
        "import contractions\n",
        "\n",
        "import warnings\n",
        "warnings.filterwarnings('ignore')\n",
        "\n",
        "import missingno as msno"
      ],
      "metadata": {
        "id": "M8Vqi-pPk-HR"
      },
      "execution_count": null,
      "outputs": []
    },
    {
      "cell_type": "markdown",
      "source": [
        "### Dataset Loading"
      ],
      "metadata": {
        "id": "3RnN4peoiCZX"
      }
    },
    {
      "cell_type": "code",
      "source": [
        "# Load Dataset\n",
        "from google.colab import drive\n",
        "drive.mount('/content/drive')"
      ],
      "metadata": {
        "id": "4CkvbW_SlZ_R"
      },
      "execution_count": null,
      "outputs": []
    },
    {
      "cell_type": "markdown",
      "source": [
        "### Dataset First View"
      ],
      "metadata": {
        "id": "x71ZqKXriCWQ"
      }
    },
    {
      "cell_type": "code",
      "source": [
        "# Dataset First Look\n",
        "try:\n",
        "  df_Master = pd.read_csv('/content/drive/MyDrive/NETFLIX MOVIES AND TV SHOWS CLUSTERING.csv')\n",
        "\n",
        "  df_Master_copy = df_Master                                                        #Creating a copy to preserve original data\n",
        "  #Return the first 5 rows of the DataFrame\n",
        "  df_Master.head()\n",
        "except:\n",
        "  print(\"There was a problem loading the file\")"
      ],
      "metadata": {
        "id": "LWNFOSvLl09H"
      },
      "execution_count": null,
      "outputs": []
    },
    {
      "cell_type": "code",
      "source": [
        "df_Master.tail()"
      ],
      "metadata": {
        "id": "DzHvD1tqXhbn"
      },
      "execution_count": null,
      "outputs": []
    },
    {
      "cell_type": "markdown",
      "source": [
        "### Dataset Rows & Columns count"
      ],
      "metadata": {
        "id": "7hBIi_osiCS2"
      }
    },
    {
      "cell_type": "code",
      "source": [
        "# Dataset Rows & Columns count\n",
        "print('\\n', f'The number of rows dataset is : {df_Master.shape[0] }')\n",
        "print('\\n', f'The number of columns of the dataset is : {df_Master.shape[1] }')\n",
        "print('\\n', f'The dimension of the dataset is : {df_Master.shape }')            #To get number of rows and columns in the dataset"
      ],
      "metadata": {
        "id": "Kllu7SJgmLij"
      },
      "execution_count": null,
      "outputs": []
    },
    {
      "cell_type": "markdown",
      "source": [
        "### Dataset Information"
      ],
      "metadata": {
        "id": "JlHwYmJAmNHm"
      }
    },
    {
      "cell_type": "code",
      "source": [
        "# Dataset Info\n",
        "df_Master.info()"
      ],
      "metadata": {
        "id": "e9hRXRi6meOf"
      },
      "execution_count": null,
      "outputs": []
    },
    {
      "cell_type": "markdown",
      "source": [
        "#### Duplicate Values"
      ],
      "metadata": {
        "id": "35m5QtbWiB9F"
      }
    },
    {
      "cell_type": "code",
      "source": [
        "# Dataset Duplicate Value Count\n",
        "print(\"Number of duplicate records = \" + str(len(df_Master[df_Master.duplicated()])))"
      ],
      "metadata": {
        "id": "1sLdpKYkmox0"
      },
      "execution_count": null,
      "outputs": []
    },
    {
      "cell_type": "markdown",
      "source": [
        "#### Missing Values/Null Values"
      ],
      "metadata": {
        "id": "PoPl-ycgm1ru"
      }
    },
    {
      "cell_type": "code",
      "source": [
        "# Missing Values/Null Values Count\n",
        "print(df_Master.isna().any())"
      ],
      "metadata": {
        "id": "GgHWkxvamxVg"
      },
      "execution_count": null,
      "outputs": []
    },
    {
      "cell_type": "code",
      "source": [
        "missingCount = df_Master.isna().sum()\n",
        "print(missingCount)\n",
        "\n",
        "# Visualize missing values as a matrix\n",
        "msno.matrix(df_Master,figsize=(10,3),fontsize=12)"
      ],
      "metadata": {
        "id": "3q5wnI3om9sJ"
      },
      "execution_count": null,
      "outputs": []
    },
    {
      "cell_type": "markdown",
      "source": [
        "### What did you know about your dataset?"
      ],
      "metadata": {
        "id": "H0kj-8xxnORC"
      }
    },
    {
      "cell_type": "markdown",
      "source": [
        "The dataset consists of listings of all the movies and tv shows available on Netflix, along with details\n",
        "such as - cast, directors, ratings, release year, duration, etc\n",
        "\n",
        "● show_id : Unique ID for every Movie / Tv Show\n",
        "\n",
        "● type : Identifier - A Movie or TV Show\n",
        "\n",
        "● title : Title of the Movie / Tv Show\n",
        "\n",
        "● director : Director of the Movie\n",
        "\n",
        "● cast : Actors involved in the movie / show\n",
        "\n",
        "● country : Country where the movie / show was produced\n",
        "\n",
        "● date_added : Date it was added on Netflix\n",
        "\n",
        "● release_year : Actual Release Year of the movie / show\n",
        "\n",
        "● rating : TV Rating of the movie / show\n",
        "\n",
        "● duration : Total Duration - in minutes or number of seasons\n",
        "\n",
        "● listed_in : Genre\n",
        "\n",
        "● description: The Summary description"
      ],
      "metadata": {
        "id": "gfoNAAC-nUe_"
      }
    },
    {
      "cell_type": "markdown",
      "source": [
        "## ***2. Understanding Your Variables***"
      ],
      "metadata": {
        "id": "nA9Y7ga8ng1Z"
      }
    },
    {
      "cell_type": "code",
      "source": [
        "# Dataset Columns\n",
        "df_Master.columns"
      ],
      "metadata": {
        "id": "j7xfkqrt5Ag5"
      },
      "execution_count": null,
      "outputs": []
    },
    {
      "cell_type": "code",
      "source": [
        "# Dataset Describe\n",
        "df_Master.describe().T"
      ],
      "metadata": {
        "id": "DnOaZdaE5Q5t"
      },
      "execution_count": null,
      "outputs": []
    },
    {
      "cell_type": "markdown",
      "source": [
        "### Variables Description"
      ],
      "metadata": {
        "id": "PBTbrJXOngz2"
      }
    },
    {
      "cell_type": "markdown",
      "source": [
        "The dataset consists of listings of all the movies and tv shows available on Netflix, along with details\n",
        "such as - cast, directors, ratings, release year, duration, etc\n",
        "\n",
        "● show_id : Unique ID for every Movie / Tv Show\n",
        "\n",
        "● type : Identifier - A Movie or TV Show\n",
        "\n",
        "● title : Title of the Movie / Tv Show\n",
        "\n",
        "● director : Director of the Movie\n",
        "\n",
        "● cast : Actors involved in the movie / show\n",
        "\n",
        "● country : Country where the movie / show was produced\n",
        "\n",
        "● date_added : Date it was added on Netflix\n",
        "\n",
        "● release_year : Actual Release Year of the movie / show\n",
        "\n",
        "● rating : TV Rating of the movie / show\n",
        "\n",
        "● duration : Total Duration - in minutes or number of seasons\n",
        "\n",
        "● listed_in : Genre\n",
        "\n",
        "● description: The Summary description"
      ],
      "metadata": {
        "id": "aJV4KIxSnxay"
      }
    },
    {
      "cell_type": "markdown",
      "source": [
        "### Check Unique Values for each variable."
      ],
      "metadata": {
        "id": "u3PMJOP6ngxN"
      }
    },
    {
      "cell_type": "code",
      "source": [
        "# Check Unique Values for each variable\n",
        "df_Master.nunique()"
      ],
      "metadata": {
        "id": "zms12Yq5n-jE"
      },
      "execution_count": null,
      "outputs": []
    },
    {
      "cell_type": "markdown",
      "source": [
        "## 3. ***Data Wrangling***"
      ],
      "metadata": {
        "id": "dauF4eBmngu3"
      }
    },
    {
      "cell_type": "markdown",
      "source": [
        "### Data Wrangling Code"
      ],
      "metadata": {
        "id": "bKJF3rekwFvQ"
      }
    },
    {
      "cell_type": "code",
      "source": [
        "#Handling the missing values\n",
        "df_Master[['director','country','cast']] = df_Master[['director','country','cast']].fillna('Unknown')\n",
        "df_Master['rating'] = df_Master['rating'].fillna(df_Master['rating'].mode()[0])                                                 #Assigning the most common rating to missing ratings\n",
        "\n",
        "missingCount = df_Master.isna().sum()\n",
        "print(missingCount)\n",
        "\n",
        "# Visualize missing values as a matrix\n",
        "msno.matrix(df_Master,figsize=(10,3),fontsize=12)\n"
      ],
      "metadata": {
        "id": "wk-9a2fpoLcV"
      },
      "execution_count": null,
      "outputs": []
    },
    {
      "cell_type": "code",
      "source": [
        "##check for duplicates\n",
        "duplicates =len(df_Master[df_Master.duplicated()])\n",
        "print(duplicates)"
      ],
      "metadata": {
        "id": "Uk4ShlY0sQs4"
      },
      "execution_count": null,
      "outputs": []
    },
    {
      "cell_type": "markdown",
      "source": [
        "There are no duplicate records"
      ],
      "metadata": {
        "id": "2NXzMmM11gmk"
      }
    },
    {
      "cell_type": "code",
      "source": [
        "#Removing show_id as it does not impact clustering\n",
        "df_Master = df_Master.drop(['show_id'], axis=1)"
      ],
      "metadata": {
        "id": "gs_LHe4CHF3b"
      },
      "execution_count": null,
      "outputs": []
    },
    {
      "cell_type": "code",
      "source": [
        "# # Typecasting 'date_added' from string to datetime\n",
        "df_Master['month_added'] = pd.DatetimeIndex(df_Master['date_added']).month_name()"
      ],
      "metadata": {
        "id": "9izG29clPG3q"
      },
      "execution_count": null,
      "outputs": []
    },
    {
      "cell_type": "code",
      "source": [
        "#Assigning the Ratings into grouped categories\n",
        "ratings = {\n",
        "    'TV-PG': 'Kids_6to12',\n",
        "    'TV-MA': 'Adults',\n",
        "    'TV-Y7-FV': 'Kids_6to12',\n",
        "    'TV-Y7': 'Kids_6to12',\n",
        "    'TV-14': 'Teenagers',\n",
        "    'R': 'Adults',\n",
        "    'TV-Y': 'Kids',\n",
        "    'NR': 'Adults',\n",
        "    'PG-13': 'Teenagers',\n",
        "    'TV-G': 'Kids',\n",
        "    'PG': 'Kids_6to12',\n",
        "    'G': 'Kids',\n",
        "    'UR': 'Adults',\n",
        "    'NC-17': 'Adults'\n",
        "}\n",
        "df_Master['target_ages'] = df_Master['rating'].replace(ratings)"
      ],
      "metadata": {
        "id": "FFbM73OOnubA"
      },
      "execution_count": null,
      "outputs": []
    },
    {
      "cell_type": "markdown",
      "source": [
        "### What all manipulations have you done and insights you found?"
      ],
      "metadata": {
        "id": "MSa1f5Uengrz"
      }
    },
    {
      "cell_type": "markdown",
      "source": [
        "Missing values:\n",
        "\n",
        "The dataset had a lot of missing values, the text columns have been handled by replacing them with unknown\n",
        "The rating column missing values have been replaced with the most common rating\n",
        "\n",
        "Date:\n",
        "The date column has been converted to date type, to separate the year and month.\n",
        "\n",
        "Show_ID:\n",
        "The column has been dropped as it shouldnt impact the clustering\n",
        "\n",
        "Rating:\n",
        "All the ratings have been categorized into 4 types."
      ],
      "metadata": {
        "id": "LbyXE7I1olp8"
      }
    },
    {
      "cell_type": "markdown",
      "source": [
        "## ***4. Data Vizualization, Storytelling & Experimenting with charts : Understand the relationships between variables***"
      ],
      "metadata": {
        "id": "GF8Ens_Soomf"
      }
    },
    {
      "cell_type": "markdown",
      "source": [
        "#### Chart - 1: Movie - TV show division"
      ],
      "metadata": {
        "id": "0wOQAZs5pc--"
      }
    },
    {
      "cell_type": "code",
      "source": [
        "#Counting number of Movies and Shows\n",
        "print(\"*************************************************\")\n",
        "type_division = df_Master['type'].value_counts()\n",
        "print(type_division)\n",
        "print(\"*************************************************\\n\")\n",
        "\n",
        "# displaying chart\n",
        "type_division.plot.pie(title=\"Type of video\", legend=False,autopct='%1.1f%%', explode=(0.1,0.0),shadow=True, startangle=0,fontsize=12, colors = ['#ff9999','#66b3ff'])\n",
        "plt.show()"
      ],
      "metadata": {
        "id": "7v_ESjsspbW7"
      },
      "execution_count": null,
      "outputs": []
    },
    {
      "cell_type": "markdown",
      "source": [
        "##### 1. Why did you pick the specific chart?"
      ],
      "metadata": {
        "id": "K5QZ13OEpz2H"
      }
    },
    {
      "cell_type": "markdown",
      "source": [
        "Pie charts show the size of items (called wedge) in one data series, proportional to the sum of the items. The data points in a pie chart are shown as a percentage of the whole pie. Since we wanted to understand what division of the total videos is movies and what is TV Shows, I chose a pie chart."
      ],
      "metadata": {
        "id": "XESiWehPqBRc"
      }
    },
    {
      "cell_type": "markdown",
      "source": [
        "##### 2. What is/are the insight(s) found from the chart?"
      ],
      "metadata": {
        "id": "lQ7QKXXCp7Bj"
      }
    },
    {
      "cell_type": "markdown",
      "source": [
        "Netflix contains 69% movies and 31% television shows, indicating that movie shows have more content."
      ],
      "metadata": {
        "id": "C_j1G7yiqdRP"
      }
    },
    {
      "cell_type": "markdown",
      "source": [
        "##### 3. Will the gained insights help creating a positive business impact?\n",
        "Are there any insights that lead to negative growth? Justify with specific reason."
      ],
      "metadata": {
        "id": "448CDAPjqfQr"
      }
    },
    {
      "cell_type": "markdown",
      "source": [
        "This could help business in decision making while buying rights for new movies or TV shows."
      ],
      "metadata": {
        "id": "3cspy4FjqxJW"
      }
    },
    {
      "cell_type": "markdown",
      "source": [
        "#### Chart - 2 : Production growth yearly (last 10 years)"
      ],
      "metadata": {
        "id": "KSlN3yHqYklG"
      }
    },
    {
      "cell_type": "code",
      "source": [
        "# Chart - 2 visualization code\n",
        "TV_DF=df_Master[(df_Master['type']=='TV Show') & (df_Master['release_year'] >= 2010) & (df_Master['release_year'] < 2021)]       #Exclusing 2021 since 2021 has only 1 month data\n",
        "MOV_DF=df_Master[(df_Master['type']=='Movie') & (df_Master['release_year'] >= 2010) & (df_Master['release_year'] < 2021)]\n",
        "\n",
        "TV_DF = TV_DF['release_year'].value_counts().sort_index(ascending=False)\n",
        "MOV_DF = MOV_DF['release_year'].value_counts().sort_index(ascending=False)\n",
        "\n",
        "print(\"\\n TV Show Count\")\n",
        "print(TV_DF)\n",
        "print(\"\\n\\n Movie Count\")\n",
        "print(MOV_DF)\n",
        "\n",
        "# visualizing the movies and tv_shows based on the release year\n",
        "sns.set()\n",
        "TV_DF.plot( linewidth=3.5, color='lime',xlabel = \"Years\", ylabel =\"TV Show Releases\",title = \"Production growth yearly\" )\n",
        "MOV_DF.plot( linewidth=3.5, color='blue',xlabel = \"Years\", ylabel =\"Movie Releases\",title = \"Production growth yearly\")"
      ],
      "metadata": {
        "id": "R4YgtaqtYklH"
      },
      "execution_count": null,
      "outputs": []
    },
    {
      "cell_type": "code",
      "source": [
        "TV_DF=TV_DF.reset_index(name = 'count').sort_values(by='count',ascending=False)\n",
        "plt.figure(figsize=(7,3))\n",
        "plt.xlabel=\"Count\"\n",
        "plt.ylabel=\"Year\"\n",
        "plt.title=\"TV Shows per year\"\n",
        "plt.barh(TV_DF['index'],TV_DF['count'], color='yellowgreen')"
      ],
      "metadata": {
        "id": "2gkR5T_bw3s8"
      },
      "execution_count": null,
      "outputs": []
    },
    {
      "cell_type": "code",
      "source": [
        "MOV_DF = MOV_DF.reset_index(name='count').sort_values(by='count',ascending=False)\n",
        "plt.figure(figsize=(7,3))\n",
        "plt.barh(MOV_DF['index'],MOV_DF['count'],color='coral')\n"
      ],
      "metadata": {
        "id": "bqh694n7xSqm"
      },
      "execution_count": null,
      "outputs": []
    },
    {
      "cell_type": "markdown",
      "source": [
        "##### 1. Why did you pick the specific chart?"
      ],
      "metadata": {
        "id": "t6dVpIINYklI"
      }
    },
    {
      "cell_type": "markdown",
      "source": [
        "Line charts are used to represent the relation between two data X and Y on a different axis.\n",
        "Hence to show the production growth between Movies and TV Shows it was used.\n",
        "\n",
        "Horizontal bar graphs are used to show the show the production growth year after year for Movies and TV Shows"
      ],
      "metadata": {
        "id": "5aaW0BYyYklI"
      }
    },
    {
      "cell_type": "markdown",
      "source": [
        "##### 2. What is/are the insight(s) found from the chart?"
      ],
      "metadata": {
        "id": "ijmpgYnKYklI"
      }
    },
    {
      "cell_type": "markdown",
      "source": [
        "While the production of movies added on Netflix is on the downward slope,TV Shows added are on the rise"
      ],
      "metadata": {
        "id": "PSx9atu2YklI"
      }
    },
    {
      "cell_type": "markdown",
      "source": [
        "##### 3. Will the gained insights help creating a positive business impact?\n",
        "Are there any insights that lead to negative growth? Justify with specific reason."
      ],
      "metadata": {
        "id": "-JiQyfWJYklI"
      }
    },
    {
      "cell_type": "markdown",
      "source": [
        "The graphs justify the growing popularity of TV Shows on Netflix. They can also be used to understand how the covid era impacted the patterns of binge watching"
      ],
      "metadata": {
        "id": "BcBbebzrYklV"
      }
    },
    {
      "cell_type": "markdown",
      "source": [
        "#### Chart - 3 : Categorizing TV Shows and Movies as per their genre"
      ],
      "metadata": {
        "id": "EM7whBJCYoAo"
      }
    },
    {
      "cell_type": "code",
      "source": [
        "# Chart - 3 visualization code\n",
        "MOV_DF = df_Master[df_Master['type'] == 'Movie']\n",
        "TV_DF = df_Master[df_Master['type'] == 'TV Show']\n",
        "\n",
        "#Plotting top genres for movies\n",
        "fig =plt.plot()\n",
        "sns.countplot(y=\"listed_in\", data=MOV_DF, order=MOV_DF['listed_in'].value_counts().index[0:10])\n",
        "plt.rcParams['figure.figsize']=(3,3)\n",
        "plt.show()\n",
        "\n",
        "#Plotting top genres for TV Shows\n",
        "fig =plt.plot()\n",
        "sns.countplot(y=\"listed_in\", data=TV_DF, order=TV_DF['listed_in'].value_counts().index[0:10])\n",
        "plt.rcParams['figure.figsize']=(3,3)\n",
        "plt.show()"
      ],
      "metadata": {
        "id": "t6GMdE67YoAp"
      },
      "execution_count": null,
      "outputs": []
    },
    {
      "cell_type": "markdown",
      "source": [
        "##### 1. Why did you pick the specific chart?"
      ],
      "metadata": {
        "id": "fge-S5ZAYoAp"
      }
    },
    {
      "cell_type": "markdown",
      "source": [
        "A horizontal bar plot is a plot that presents quantitative data with rectangular bars with lengths proportional to the values that they represent.\n",
        "Hence to show the number of shows in each of the top genre I used this chart"
      ],
      "metadata": {
        "id": "5dBItgRVYoAp"
      }
    },
    {
      "cell_type": "markdown",
      "source": [
        "##### 2. What is/are the insight(s) found from the chart?"
      ],
      "metadata": {
        "id": "85gYPyotYoAp"
      }
    },
    {
      "cell_type": "markdown",
      "source": [
        "Most movies are listed in \"Documentaries\" while most TV Shows are listed in Kids TV."
      ],
      "metadata": {
        "id": "4jstXR6OYoAp"
      }
    },
    {
      "cell_type": "markdown",
      "source": [
        "##### 3. Will the gained insights help creating a positive business impact?\n",
        "Are there any insights that lead to negative growth? Justify with specific reason."
      ],
      "metadata": {
        "id": "RoGjAbkUYoAp"
      }
    },
    {
      "cell_type": "markdown",
      "source": [
        "The division of movies and shows gives an idea about popular genres and also about those genres which do not have sufficient content. Content relating to certain genres can be added based on this"
      ],
      "metadata": {
        "id": "zfJ8IqMcYoAp"
      }
    },
    {
      "cell_type": "markdown",
      "source": [
        "#### Chart - 4 Monthly Distribution"
      ],
      "metadata": {
        "id": "4Of9eVA-YrdM"
      }
    },
    {
      "cell_type": "code",
      "source": [
        "# Chart - 4 visualization code\n",
        "monthWiseData = df_Master['month_added'].value_counts(sort=True)\n",
        "list(monthWiseData.index)\n",
        "\n",
        "# plt.pie(monthWiseData, autopct='%.2f')\n",
        "plt.figure(figsize = (6,6))\n",
        "monthWiseData.plot.pie(title=\"Monthly distribution\", legend=False, \\\n",
        "                   autopct='%1.1f%%', explode=(0.05,0.05,0.05,0.05,0.05,0.05,0.05,0.05,0.05,0.05,0.05,0.05),shadow=False, startangle=0,fontsize=9,colors = ['#ff9999','#66b3ff','#99ff99','#ffcc99','#ff6666', '#ffcc99', '#99ff99', '#66b3ff', '#c2c2f0','#ffb3e6', '#c2c2f0','#ffb3e6'])\n",
        "\n",
        "plt.title= 'ANALYSIS ON MONTH ADDED'\n",
        "plt.show()"
      ],
      "metadata": {
        "id": "irlUoxc8YrdO"
      },
      "execution_count": null,
      "outputs": []
    },
    {
      "cell_type": "code",
      "source": [
        "fig, ax = plt.subplots(figsize=(14,4))\n",
        "sns.countplot(x='month_added', hue='type',lw=5, data=df_Master, ax=ax)"
      ],
      "metadata": {
        "id": "eWyGXdT_TaQX"
      },
      "execution_count": null,
      "outputs": []
    },
    {
      "cell_type": "markdown",
      "source": [
        "##### 1. Why did you pick the specific chart?"
      ],
      "metadata": {
        "id": "iky9q4vBYrdO"
      }
    },
    {
      "cell_type": "markdown",
      "source": [
        "I used a pie chart because:\n",
        "\n",
        "it display relative proportions of the different months of data and size of the each wedge is proportional to the total quantity it represents.\n"
      ],
      "metadata": {
        "id": "aJRCwT6DYrdO"
      }
    },
    {
      "cell_type": "markdown",
      "source": [
        "##### 2. What is/are the insight(s) found from the chart?"
      ],
      "metadata": {
        "id": "F6T5p64dYrdO"
      }
    },
    {
      "cell_type": "markdown",
      "source": [
        "The Christmas season (October,\n",
        "November, December, and January)\n",
        "sees a greater amount of content\n",
        "released. Compared to TV shows, more\n",
        "movies are released each month."
      ],
      "metadata": {
        "id": "Xx8WAJvtYrdO"
      }
    },
    {
      "cell_type": "markdown",
      "source": [
        "##### 3. Will the gained insights help creating a positive business impact?\n",
        "Are there any insights that lead to negative growth? Justify with specific reason."
      ],
      "metadata": {
        "id": "y-Ehk30pYrdP"
      }
    },
    {
      "cell_type": "markdown",
      "source": [
        "For more viewership and new customers in the holiday season, special membership rates can be offered for 3 months.Or quaterly package deals can be crafted."
      ],
      "metadata": {
        "id": "jLNxxz7MYrdP"
      }
    },
    {
      "cell_type": "markdown",
      "source": [
        "#### Chart - 5  Most Popular Directors"
      ],
      "metadata": {
        "id": "bamQiAODYuh1"
      }
    },
    {
      "cell_type": "code",
      "source": [
        "x = df_Master['director'].value_counts().reset_index(name='count').sort_values(by='count',ascending=False)[1:10]\n",
        "\n",
        "#Movies as per directors\n",
        "plt.figure(figsize=(6,3))\n",
        "bar = plt.barh(x['index'],x['count'], color = 'tan')\n",
        "\n",
        "for index, value in enumerate(x['count']):\n",
        "    plt.text(value, index,\n",
        "             str(value))\n",
        "plt.show()"
      ],
      "metadata": {
        "id": "TIJwrbroYuh3"
      },
      "execution_count": null,
      "outputs": []
    },
    {
      "cell_type": "code",
      "source": [
        "df_India = df_Master[(df_Master['country'] == 'India')]\n",
        "x = df_India['director'].value_counts().reset_index(name='count').sort_values(by='count',ascending=False)[1:11]\n",
        "\n",
        "#Indian Movies as per directors\n",
        "plt.figure(figsize=(6,3))\n",
        "plt.title='movie ratings'\n",
        "bar=plt.barh(x['index'],x['count'], color = 'mediumaquamarine')\n",
        "\n",
        "#Showing count for each bar\n",
        "for index, value in enumerate(x['count']):\n",
        "    plt.text(value, index,\n",
        "             str(value))\n",
        "\n",
        "plt.show()"
      ],
      "metadata": {
        "id": "n3qTeOrNQlRQ"
      },
      "execution_count": null,
      "outputs": []
    },
    {
      "cell_type": "markdown",
      "source": [
        "##### 1. Why did you pick the specific chart?"
      ],
      "metadata": {
        "id": "QHF8YVU7Yuh3"
      }
    },
    {
      "cell_type": "markdown",
      "source": [
        "Barh plots help us visualize quantitive values against a descriptive one.Hence i have used a barh plot here"
      ],
      "metadata": {
        "id": "dcxuIMRPYuh3"
      }
    },
    {
      "cell_type": "markdown",
      "source": [
        "##### 2. What is/are the insight(s) found from the chart?"
      ],
      "metadata": {
        "id": "GwzvFGzlYuh3"
      }
    },
    {
      "cell_type": "markdown",
      "source": [
        "Jan Sutar,Raul Campos films are most popular in Netflix globally.\n",
        "David Dhawan are most popular in Netflix in India."
      ],
      "metadata": {
        "id": "uyqkiB8YYuh3"
      }
    },
    {
      "cell_type": "markdown",
      "source": [
        "#### Chart - 6 Most popular countries (relative)"
      ],
      "metadata": {
        "id": "OH-pJp9IphqM"
      }
    },
    {
      "cell_type": "code",
      "source": [
        "text = df_Master['country']\n",
        "\n",
        "#Generating word cloud\n",
        "wordcloud = WordCloud(width = 500,height = 500,background_color = 'azure').generate(\" \".join(df_Master.country))\n",
        "\n",
        "#plotting\n",
        "fig = plt.figure(figsize = (10, 5),facecolor = 'r',edgecolor = 'b')\n",
        "plt.imshow(wordcloud)\n",
        "plt.axis('off')\n",
        "plt.tight_layout(pad=0)\n",
        "plt.show()\n"
      ],
      "metadata": {
        "id": "kuRf4wtuphqN"
      },
      "execution_count": null,
      "outputs": []
    },
    {
      "cell_type": "markdown",
      "source": [
        "##### 1. Why did you pick the specific chart?"
      ],
      "metadata": {
        "id": "bbFf2-_FphqN"
      }
    },
    {
      "cell_type": "markdown",
      "source": [
        "Word clouds or tag clouds are graphical representations of word frequency that give greater prominence to words that appear more frequently in a source text. The larger the word in the visual the more common the word was in the document(s). Hence I have used a wordcloud here."
      ],
      "metadata": {
        "id": "loh7H2nzphqN"
      }
    },
    {
      "cell_type": "markdown",
      "source": [
        "##### 2. What is/are the insight(s) found from the chart?"
      ],
      "metadata": {
        "id": "_ouA3fa0phqN"
      }
    },
    {
      "cell_type": "markdown",
      "source": [
        "Most of the content in Netflix is from US followed by UK and India"
      ],
      "metadata": {
        "id": "VECbqPI7phqN"
      }
    },
    {
      "cell_type": "markdown",
      "source": [
        "##### 3. Will the gained insights help creating a positive business impact?\n",
        "Are there any insights that lead to negative growth? Justify with specific reason."
      ],
      "metadata": {
        "id": "Seke61FWphqN"
      }
    },
    {
      "cell_type": "markdown",
      "source": [
        "Answer Here"
      ],
      "metadata": {
        "id": "DW4_bGpfphqN"
      }
    },
    {
      "cell_type": "markdown",
      "source": [
        "#### Chart - 7 : Country and Age wise content distribution"
      ],
      "metadata": {
        "id": "PIIx-8_IphqN"
      }
    },
    {
      "cell_type": "code",
      "source": [
        "#Filtering data for specific countries\n",
        "df_county_age =df_Master[(df_Master['country'].isin([\"India\",\"United States\",\"United Kingdom\",\"Japan\"]))].groupby('country')['target_ages'].value_counts()\n",
        "\n",
        "print(df_county_age)\n",
        "print(\"\\n\\n\")\n",
        "#Plotting line graph to show trend over the years\n",
        "plt.rcParams['figure.figsize']=(6,3)\n",
        "df_county_age.plot(kind='bar', color = 'teal', linewidth = 6).set(title =\"Total movies by age group\",xlabel = \"Country,Age Group\",ylabel=\"Movie count\")\n"
      ],
      "metadata": {
        "id": "lqAIGUfyphqO"
      },
      "execution_count": null,
      "outputs": []
    },
    {
      "cell_type": "code",
      "source": [
        "df_county_age =df_Master[(df_Master['country'].isin([\"India\",\"United States\",\"United Kingdom\",\"Japan\"]))]\n",
        "\n",
        "# Preparing data for heatmap\n",
        "df_county_age['count'] = 1\n",
        "data = df_county_age.groupby('country')[['country','count']].sum().sort_values(by='count',ascending=False).reset_index()\n",
        "data = data['country']\n",
        "\n",
        "\n",
        "df_heatmap = df_county_age.loc[df_Master['country'].isin(data)]\n",
        "df_heatmap = pd.crosstab(df_heatmap['country'],df_heatmap['target_ages'],normalize = \"index\").T\n",
        "df_heatmap\n",
        "\n",
        "fig, ax = plt.subplots(1, 1, figsize=(5,5))\n",
        "\n",
        "country_order2 = ['United States', 'India', 'United Kingdom','Japan']\n",
        "age_order = ['Adults', 'Teenagers', 'Kids_6to12', 'Kids']\n",
        "\n",
        "# Plotting the heatmap\n",
        "sns.heatmap(df_heatmap.loc[age_order,country_order2],cmap=\"YlGnBu\", linewidth=2.5,cbar=False,annot=True,fmt='1.0%',vmax=.6,vmin=0.05,ax=ax,annot_kws={\"fontsize\":10})\n",
        "plt.show()\n"
      ],
      "metadata": {
        "id": "pe91R2hzCSzH"
      },
      "execution_count": null,
      "outputs": []
    },
    {
      "cell_type": "markdown",
      "source": [
        "##### 1. Why did you pick the specific chart?"
      ],
      "metadata": {
        "id": "t27r6nlMphqO"
      }
    },
    {
      "cell_type": "markdown",
      "source": [
        "Heatmaps represent data in an easy-to-understand manner. Heatmaps can describe the density or intensity of variables, visualize patterns, variance, and even anomalies. Heatmaps show relationships between variables.Hence , I have used Heatmap here."
      ],
      "metadata": {
        "id": "iv6ro40sphqO"
      }
    },
    {
      "cell_type": "markdown",
      "source": [
        "##### 2. What is/are the insight(s) found from the chart?"
      ],
      "metadata": {
        "id": "r2jJGEOYphqO"
      }
    },
    {
      "cell_type": "markdown",
      "source": [
        "While UK, US and Japan all have maximum content for adults, India has maximum content for children.\n",
        "\n",
        "There is little to no content for small kids"
      ],
      "metadata": {
        "id": "Po6ZPi4hphqO"
      }
    },
    {
      "cell_type": "markdown",
      "source": [
        "##### 3. Will the gained insights help creating a positive business impact?\n",
        "Are there any insights that lead to negative growth? Justify with specific reason."
      ],
      "metadata": {
        "id": "b0JNsNcRphqO"
      }
    },
    {
      "cell_type": "markdown",
      "source": [
        "This chart can help industries understand the gaps in content available as per age group. e.g: They can explore into adding more content for kids."
      ],
      "metadata": {
        "id": "xvSq8iUTphqO"
      }
    },
    {
      "cell_type": "markdown",
      "source": [
        "####Chart 8: Show duration distribution"
      ],
      "metadata": {
        "id": "cyABhpMZMw9K"
      }
    },
    {
      "cell_type": "code",
      "source": [
        "fig,ax = plt.subplots(1,2, figsize=(10,4))\n",
        "sns.distplot(MOV_DF['duration'].str.extract('(\\d+)'),kde=False, color=['red'],ax = ax[0]).set(xlabel = \"Duration\", title='Distplot with Normal distribution for Movies')\n",
        "\n",
        "\n",
        "TV_DF['duration'] = TV_DF['duration'].str.replace(' Seasons','S')\n",
        "TV_DF['duration'] = TV_DF['duration'].str.replace(' Season','S')\n",
        "\n",
        "sns.countplot(x=TV_DF['duration'],data=TV_DF,order = TV_DF['duration'].value_counts().index,ax = ax[1]).set(title='Number of seasons for shows ')\n",
        "# plt.title = ''\n",
        "plt.show()"
      ],
      "metadata": {
        "id": "gqypw2CJMzva"
      },
      "execution_count": null,
      "outputs": []
    },
    {
      "cell_type": "markdown",
      "source": [
        "##### 1. Why did you pick the specific chart?"
      ],
      "metadata": {
        "id": "jHOyzT7AGY_X"
      }
    },
    {
      "cell_type": "markdown",
      "source": [
        "A Distplot or distribution plot, depicts the variation in the data distribution.In order to understand how the content available varied as per the duration, I used a distplot"
      ],
      "metadata": {
        "id": "d8276X0PGcis"
      }
    },
    {
      "cell_type": "markdown",
      "source": [
        "##### 2. What is/are the insight(s) found from the chart?"
      ],
      "metadata": {
        "id": "ZzvTLIMtHGGk"
      }
    },
    {
      "cell_type": "markdown",
      "source": [
        "The duration(mins) follows a normal distribution for Movies.\n",
        "Most TV Series have only 1 season"
      ],
      "metadata": {
        "id": "nLelYRCXHiKl"
      }
    },
    {
      "cell_type": "markdown",
      "source": [],
      "metadata": {
        "id": "QjEwEma4HHet"
      }
    },
    {
      "cell_type": "markdown",
      "source": [
        "## ***5. Feature Engineering & Data Pre-processing***"
      ],
      "metadata": {
        "id": "yLjJCtPM0KBk"
      }
    },
    {
      "cell_type": "markdown",
      "source": [
        "###1. Handling Outliers"
      ],
      "metadata": {
        "id": "id1riN9m0vUs"
      }
    },
    {
      "cell_type": "code",
      "source": [
        "# Handling Outliers & Outlier treatments\n",
        "fig,ax = plt.subplots(1,2, figsize=(10,5))\n",
        "\n",
        "# Display boxplot and dist plot.\n",
        "sns.distplot(x=df_Master['release_year'], ax=ax[0])\n",
        "sns.boxplot(df_Master.release_year)"
      ],
      "metadata": {
        "id": "M6w2CzZf04JK"
      },
      "execution_count": null,
      "outputs": []
    },
    {
      "cell_type": "markdown",
      "source": [
        "##### What all outlier treatment techniques have you used and why did you use those techniques?"
      ],
      "metadata": {
        "id": "578E2V7j08f6"
      }
    },
    {
      "cell_type": "markdown",
      "source": [
        "Since,Year is the only quantitative column and the outliers in Year are true outliers and represent actual years, I have left them as it is\n",
        "\n"
      ],
      "metadata": {
        "id": "uGZz5OrT1HH-"
      }
    },
    {
      "cell_type": "markdown",
      "source": [
        "### 2. Categorical Encoding"
      ],
      "metadata": {
        "id": "89xtkJwZ18nB"
      }
    },
    {
      "cell_type": "code",
      "source": [
        "# Converting target ages and type(Movie/TV Series) to categorical data\n",
        "df_Master['type_cate'] = pd.Categorical(df_Master['type'])\n",
        "df_Master['age_cate'] = pd.Categorical(df_Master['target_ages'], categories=['Kids', 'Older Kids', 'Teens', 'Adults'])"
      ],
      "metadata": {
        "id": "21JmIYMG2hEo"
      },
      "execution_count": null,
      "outputs": []
    },
    {
      "cell_type": "markdown",
      "source": [
        "#### What all categorical encoding techniques have you used & why did you use those techniques?"
      ],
      "metadata": {
        "id": "67NQN5KX2AMe"
      }
    },
    {
      "cell_type": "markdown",
      "source": [
        "Answer Here."
      ],
      "metadata": {
        "id": "UDaue5h32n_G"
      }
    },
    {
      "cell_type": "markdown",
      "source": [
        "### 3. Textual Data Preprocessing\n",
        "(It's mandatory for textual dataset i.e., NLP, Sentiment Analysis, Text Clustering etc.)"
      ],
      "metadata": {
        "id": "Iwf50b-R2tYG"
      }
    },
    {
      "cell_type": "markdown",
      "source": [
        "Modelling Approach:\n",
        "Select the attributes based on which you want to cluster the shows\n",
        "\n",
        "Text preprocessing: Remove all non-ascii characters, stopwords and punctuation marks, convert all textual data to lowercase\n",
        "\n",
        "Lemmatization to generate a meaningful word out of corpus of words\n",
        "Tokenization of corpus\n",
        "\n",
        "Word vectorization\n",
        "\n",
        "Dimensionality reduction\n",
        "\n",
        "Use different algorithms to cluster the movies, obtain the optimal number of clusters using different techniques\n",
        "\n",
        "Build an optimal number of clusters and visualise the contents of each cluster using word clouds"
      ],
      "metadata": {
        "id": "O5NT29oY9acL"
      }
    },
    {
      "cell_type": "markdown",
      "source": [
        "####1.  Label Encoding"
      ],
      "metadata": {
        "id": "MgIxnZNXH4f9"
      }
    },
    {
      "cell_type": "code",
      "source": [
        "le = LabelEncoder()\n",
        "df_Master[\"type\"] = le.fit_transform(df_Master[\"type\"])\n",
        "df_Master[\"country\"] = le.fit_transform(df_Master[\"country\"])\n",
        "\n",
        "df_Master['rating'] = le.fit_transform(df_Master['rating'])\n",
        "# df_Master['listed_in'] = le.fit_transform(df_Master['listed_in'])\n"
      ],
      "metadata": {
        "id": "3WJnfK5WtnN9"
      },
      "execution_count": null,
      "outputs": []
    },
    {
      "cell_type": "markdown",
      "source": [
        "#### 2. Expand Contraction"
      ],
      "metadata": {
        "id": "xGA60OKKB907"
      }
    },
    {
      "cell_type": "code",
      "source": [
        "#Expand Contraction\n",
        "df_Master[\"expanded_desc\"]= df_Master['description'].apply(lambda x: [contractions.fix(word) for word in x.split()])\n",
        "\n",
        "\n",
        "print(df_Master['description'][10])\n",
        "print(df_Master['expanded_desc'][10])\n"
      ],
      "metadata": {
        "id": "TsjHJ4DhIM-X"
      },
      "execution_count": null,
      "outputs": []
    },
    {
      "cell_type": "markdown",
      "source": [
        "#### 3. Selecting features to create Bag of Words\n"
      ],
      "metadata": {
        "id": "GMQiZwjn3iu7"
      }
    },
    {
      "cell_type": "code",
      "source": [
        "df_Master['clusteringFeature'] = (df_Master['description'] + ' '+ df_Master['listed_in'])"
      ],
      "metadata": {
        "id": "PTouz10C3oNN"
      },
      "execution_count": null,
      "outputs": []
    },
    {
      "cell_type": "markdown",
      "source": [
        "#### 4. Lower Casing"
      ],
      "metadata": {
        "id": "WVIkgGqN3qsr"
      }
    },
    {
      "cell_type": "code",
      "source": [
        "# Lower Casing\n",
        "print(df_Master['clusteringFeature'][10])\n",
        "\n",
        "df_Master['clusteringFeature']= df_Master['clusteringFeature'].map(lambda x: x.lower())\n",
        "\n",
        "print(df_Master['clusteringFeature'][10])\n"
      ],
      "metadata": {
        "id": "88JnJ1jN3w7j"
      },
      "execution_count": null,
      "outputs": []
    },
    {
      "cell_type": "markdown",
      "source": [
        "#### 5. Removing Punctuations"
      ],
      "metadata": {
        "id": "XkPnILGE3zoT"
      }
    },
    {
      "cell_type": "code",
      "source": [
        "print(df_Master['clusteringFeature'][10])\n",
        "\n",
        "# Remove Punctuations\n",
        "import string\n",
        "\n",
        "# function to remove punctuations\n",
        "def remove_punctuation(text):\n",
        "    '''a function for removing punctuation'''\n",
        "        # replacing the punctuations with no space, which in effect deletes the punctuation marks\n",
        "    translator = str.maketrans('', '', string.punctuation)\n",
        "    # return the text stripped of punctuation marks\n",
        "    return text.translate(translator)\n",
        "\n",
        "\n",
        "# applying above function on text feature\n",
        "df_Master['clusteringFeature']= df_Master['clusteringFeature'].apply(remove_punctuation)\n",
        "\n",
        "print(df_Master['clusteringFeature'][10])\n"
      ],
      "metadata": {
        "id": "vqbBqNaA33c0"
      },
      "execution_count": null,
      "outputs": []
    },
    {
      "cell_type": "markdown",
      "source": [
        "#### 5. Removing Stopwords"
      ],
      "metadata": {
        "id": "mT9DMSJo4nBL"
      }
    },
    {
      "cell_type": "code",
      "source": [
        "# Remove Stopwords\n",
        "\n",
        "# extracting and displaying the stopwords from nltk library\n",
        "sw = stopwords.words('english')\n",
        "np.array(sw)\n"
      ],
      "metadata": {
        "id": "T2LSJh154s8W"
      },
      "execution_count": null,
      "outputs": []
    },
    {
      "cell_type": "code",
      "source": [
        "print(df_Master['clusteringFeature'][10])\n",
        "# function to remove stop words\n",
        "def stopwords(text):\n",
        "    text = [word.lower() for word in text.split() if word.lower() not in sw]\n",
        "    return \" \".join(text)\n",
        "\n",
        "\n",
        "# Removing stop words\n",
        "df_Master['clusteringFeature'] = df_Master['clusteringFeature'].apply(stopwords)\n",
        "print(df_Master['clusteringFeature'][10])"
      ],
      "metadata": {
        "id": "Y2YmEiuSI9zj"
      },
      "execution_count": null,
      "outputs": []
    },
    {
      "cell_type": "markdown",
      "source": [
        "#### 6. Lemmatization"
      ],
      "metadata": {
        "id": "a2hwTbtXgSMS"
      }
    },
    {
      "cell_type": "code",
      "source": [
        "# function to lemmatize the corpus\n",
        "\n",
        "def lemmatize_verbs(words):\n",
        "    lemmatizer = WordNetLemmatizer()\n",
        "    lemmas = []\n",
        "    for word in words:\n",
        "        lemma = lemmatizer.lemmatize(word, pos='v')\n",
        "        lemmas.append(lemma)\n",
        "    return lemmas\n",
        "\n",
        "df_Master['clusteringFeature'] = lemmatize_verbs(df_Master['clusteringFeature'])\n"
      ],
      "metadata": {
        "id": "krAl2Sn6gWUM"
      },
      "execution_count": null,
      "outputs": []
    },
    {
      "cell_type": "markdown",
      "source": [
        "#### 7. Tokenization"
      ],
      "metadata": {
        "id": "OeJFEK0N496M"
      }
    },
    {
      "cell_type": "code",
      "source": [
        "# Tokenization\n",
        "print(df_Master['clusteringFeature'][10])\n",
        "tokenizer = TweetTokenizer()\n",
        "df_Master['clusteringFeature'] = df_Master['clusteringFeature'].apply(lambda x: tokenizer.tokenize(x))\n",
        "print(df_Master['clusteringFeature'][10])"
      ],
      "metadata": {
        "id": "ijx1rUOS5CUU"
      },
      "execution_count": null,
      "outputs": []
    },
    {
      "cell_type": "markdown",
      "source": [
        "##### Which text normalization technique have you used and why?"
      ],
      "metadata": {
        "id": "cJNqERVU536h"
      }
    },
    {
      "cell_type": "markdown",
      "source": [
        "#### 8. Text Vectorization"
      ],
      "metadata": {
        "id": "T0VqWOYE6DLQ"
      }
    },
    {
      "cell_type": "markdown",
      "source": [
        "The process of converting words into numbers are called Vectorization."
      ],
      "metadata": {
        "id": "6PzkPcoMVZZ5"
      }
    },
    {
      "cell_type": "code",
      "source": [
        "# convert X into array form for clustering\n",
        "df_Master.drop(columns=['title', 'cast', 'date_added', 'description'],axis=1)\n",
        "\n",
        "# clustering tokens saved in a variable\n",
        "clustering_data = df_Master['clusteringFeature']\n",
        "\n",
        "# Tokenization\n",
        "def identity_tokenizer(text):\n",
        "    return text\n",
        "\n",
        "# Using TFIDF vectorizer to vectorize the corpus\n",
        "tfidf = TfidfVectorizer(tokenizer=identity_tokenizer, stop_words='english', lowercase=False,max_features = 1000)\n",
        "X = tfidf.fit_transform(clustering_data)\n",
        "print(X.shape)\n",
        "\n",
        "# convert X into array form for clustering\n",
        "X = X.toarray()\n"
      ],
      "metadata": {
        "id": "yBRtdhth6JDE"
      },
      "execution_count": null,
      "outputs": []
    },
    {
      "cell_type": "markdown",
      "source": [
        "##### Which text vectorization technique have you used and why?"
      ],
      "metadata": {
        "id": "qBMux9mC6MCf"
      }
    },
    {
      "cell_type": "markdown",
      "source": [
        "The TfidfVectorizer converts a collection of raw documents into a matrix of TF-IDF features.\n",
        "\n",
        "TF-IDF Vectorizer is a measure of originality of a word by comparing the number of times a word appears in document with the number of documents the word appears in\n",
        "\n",
        "The meaning increases proportionally to the number of times in the text a word appears but is compensated by the word frequency in the corpus (data-set)."
      ],
      "metadata": {
        "id": "su2EnbCh6UKQ"
      }
    },
    {
      "cell_type": "markdown",
      "source": [
        "Answer Here."
      ],
      "metadata": {
        "id": "GGRlBsSGDtTQ"
      }
    },
    {
      "cell_type": "markdown",
      "source": [
        "## ***6. ML Model Implementation***"
      ],
      "metadata": {
        "id": "VfCC591jGiD4"
      }
    },
    {
      "cell_type": "markdown",
      "source": [
        "###Dimension Reduction"
      ],
      "metadata": {
        "id": "xw_akFVqJShZ"
      }
    },
    {
      "cell_type": "code",
      "source": [
        "# reducing the dimensions to 4000 using pca\n",
        "pca = PCA(n_components=500,random_state=50)\n",
        "pca.fit(X)\n",
        "\n",
        "# transformed features\n",
        "x_pca = pca.transform(X)\n",
        "\n",
        "# shape of transformed vectors\n",
        "print(x_pca.shape)"
      ],
      "metadata": {
        "id": "5jXT_9udJPsO"
      },
      "execution_count": null,
      "outputs": []
    },
    {
      "cell_type": "markdown",
      "source": [
        "### ML Model - K Means Clustering"
      ],
      "metadata": {
        "id": "OB4l2ZhMeS1U"
      }
    },
    {
      "cell_type": "markdown",
      "source": [
        "#### Elbow Method"
      ],
      "metadata": {
        "id": "Lx5wIEk0Jn9I"
      }
    },
    {
      "cell_type": "code",
      "source": [
        "# Elbow method to find the optimal value of k\n",
        "wcss=[]\n",
        "for i in range(1,11):\n",
        "  kmeans = KMeans(n_clusters=i,init='k-means++',random_state=33)\n",
        "  kmeans.fit(x_pca)\n",
        "  wcss_iter = kmeans.inertia_\n",
        "  print(str(i) + \" : \" + str(wcss_iter))\n",
        "  wcss.append(wcss_iter)\n",
        "\n",
        "number_clusters = range(1,11)\n",
        "plt.figure(figsize=(6,3))\n",
        "plt.title = 'The Elbow Method - KMeans clustering'\n",
        "plt.xlabel ='Number of clusters'\n",
        "plt.ylabel='WCSS'\n",
        "plt.plot(number_clusters,wcss)"
      ],
      "metadata": {
        "id": "XkjhVuYR63F_"
      },
      "execution_count": null,
      "outputs": []
    },
    {
      "cell_type": "markdown",
      "source": [
        "#### Sillhoute Analysis"
      ],
      "metadata": {
        "id": "lSEdUrsCJxu_"
      }
    },
    {
      "cell_type": "code",
      "source": [
        "#sillhoute score of clusters\n",
        "sill = []\n",
        "df = pd.DataFrame(columns=['Cluster','Score'])\n",
        "for i in range(2,11):\n",
        "    model = KMeans(n_clusters=i,init ='k-means++',random_state=42)\n",
        "    model.fit(x_pca)\n",
        "    y1 = model.predict(x_pca)\n",
        "    score = silhouette_score(X,y1)\n",
        "    df.loc[i-2] = [i,score]\n",
        "    print('cluster: %d \\t Sillhoute: %0.4f'%(i,score))"
      ],
      "metadata": {
        "id": "7ebyywQieS1U"
      },
      "execution_count": null,
      "outputs": []
    },
    {
      "cell_type": "code",
      "source": [
        "#Plotting Sillhoute's score\n",
        "plt.figure(figsize=(5,3))\n",
        "plt.xlabel=\"Count\"\n",
        "plt.ylabel=\"Year\"\n",
        "plt.title=\"TV Shows per year\"\n",
        "plt.bar(df['Cluster'],df['Score'], color='yellowgreen')"
      ],
      "metadata": {
        "id": "omRuduWWLICu"
      },
      "execution_count": null,
      "outputs": []
    },
    {
      "cell_type": "markdown",
      "source": [
        "#### Training K-Means on dataset"
      ],
      "metadata": {
        "id": "xHQ4dFnwJ4-P"
      }
    },
    {
      "cell_type": "code",
      "source": [
        "#training the K-means model on a dataset\n",
        "kmeans = KMeans(n_clusters= 6, init='k-means++', random_state= 42)\n",
        "y_predict= kmeans.fit_predict(x_pca)\n",
        "\n",
        "score = silhouette_score(X, y_predict)\n",
        "print(\"Silhouette score is {}\".format(score))\n",
        "\n",
        "df_Master[\"k_cluster\"] = y_predict\n",
        "\n",
        "#davies_bouldin_score of our clusters\n",
        "print(davies_bouldin_score(X, y_predict))"
      ],
      "metadata": {
        "id": "1rjQlpvYsHuH"
      },
      "execution_count": null,
      "outputs": []
    },
    {
      "cell_type": "code",
      "source": [
        "fig, ax = plt.subplots(figsize=(6,3))\n",
        "sns.countplot(x='k_cluster', hue='type',lw=5, data=df_Master, ax=ax)"
      ],
      "metadata": {
        "id": "ygqMCx8LSNic"
      },
      "execution_count": null,
      "outputs": []
    },
    {
      "cell_type": "markdown",
      "source": [
        "##### Building a wordcloud for the movie descriptions"
      ],
      "metadata": {
        "id": "ZC94A2AjKFXH"
      }
    },
    {
      "cell_type": "code",
      "source": [
        "def kmeans_worldcloud(cluster_num):\n",
        "  comment_words = ''\n",
        "  stopwords = set(STOPWORDS)\n",
        "\n",
        "  # iterate through the csv file\n",
        "  for val in df_Master[df_Master['k_cluster']==cluster_num].clusteringFeature.values:\n",
        "      val = str(val)\n",
        "      tokens = val.split()\n",
        "\n",
        "      for i in range(len(tokens)):\n",
        "          tokens[i] = tokens[i].lower()\n",
        "\n",
        "      comment_words += \" \".join(tokens)+\" \"\n",
        "\n",
        "  fig = plt.figure(figsize=(10,5),facecolor = 'b',edgecolor = 'r')\n",
        "  wordcloud = WordCloud(width=1000, height=700,background_color ='azure',stopwords = stopwords).generate(comment_words)\n",
        "\n",
        "  plt.imshow(wordcloud,interpolation ='bilinear')\n",
        "  plt.axis('off')\n",
        "  plt.tight_layout()\n",
        "  plt.savefig('country.png')\n",
        "  plt.show()"
      ],
      "metadata": {
        "id": "EtZyD2y7W8uS"
      },
      "execution_count": null,
      "outputs": []
    },
    {
      "cell_type": "code",
      "source": [
        "#Wordcloud for Cluster 1\n",
        "kmeans_worldcloud(0)"
      ],
      "metadata": {
        "id": "miC1sjqKEUMU"
      },
      "execution_count": null,
      "outputs": []
    },
    {
      "cell_type": "code",
      "source": [
        "#Wordcloud for Cluster 2\n",
        "kmeans_worldcloud(1)"
      ],
      "metadata": {
        "id": "WvA3ntLTKUfH"
      },
      "execution_count": null,
      "outputs": []
    },
    {
      "cell_type": "code",
      "source": [
        "#Wordcloud for Cluster 3\n",
        "kmeans_worldcloud(2)"
      ],
      "metadata": {
        "id": "RafNHOEyKWes"
      },
      "execution_count": null,
      "outputs": []
    },
    {
      "cell_type": "code",
      "source": [
        "#Wordcloud for Cluster 4\n",
        "kmeans_worldcloud(3)"
      ],
      "metadata": {
        "id": "F1_kh-WVKYtJ"
      },
      "execution_count": null,
      "outputs": []
    },
    {
      "cell_type": "code",
      "source": [
        "#Wordcloud for Cluster 5\n",
        "kmeans_worldcloud(4)"
      ],
      "metadata": {
        "id": "7OeWo73xKbLc"
      },
      "execution_count": null,
      "outputs": []
    },
    {
      "cell_type": "code",
      "source": [
        "#Wordcloud for Cluster 6\n",
        "kmeans_worldcloud(5)"
      ],
      "metadata": {
        "id": "eiQqEuWNKf-G"
      },
      "execution_count": null,
      "outputs": []
    },
    {
      "cell_type": "markdown",
      "source": [
        "### ML Model - Hierarchial Clustering"
      ],
      "metadata": {
        "id": "dJ2tPlVmpsJ0"
      }
    },
    {
      "cell_type": "markdown",
      "source": [
        "#### Finding ideal number of clusters (Dendogram)"
      ],
      "metadata": {
        "id": "JWYfwnehpsJ1"
      }
    },
    {
      "cell_type": "code",
      "source": [
        "#Plotting\n",
        "plt.figure(figsize =(8, 5))\n",
        "plt.title='Visualising the data'\n",
        "plt.axhline(y= 10, color='r', linestyle='--')\n",
        "\n",
        "#Creating dendogram for the dimensionally reduced data\n",
        "Dendrogram = shc.dendrogram((shc.linkage(x_pca, method ='ward')))"
      ],
      "metadata": {
        "id": "yEl-hgQWpsJ1"
      },
      "execution_count": null,
      "outputs": []
    },
    {
      "cell_type": "code",
      "source": [
        "print(Dendrogram)"
      ],
      "metadata": {
        "id": "DPaka6qgj0tt"
      },
      "execution_count": null,
      "outputs": []
    },
    {
      "cell_type": "code",
      "source": [
        "#Finding distinct colors in the dendogram\n",
        "print(set(Dendrogram['color_list']))"
      ],
      "metadata": {
        "id": "QinoI2eslvA9"
      },
      "execution_count": null,
      "outputs": []
    },
    {
      "cell_type": "code",
      "source": [
        "#Number of clusters = No. of colors - 1\n",
        "n_clusters = len(set(Dendrogram['color_list']))-1\n",
        "\n",
        "print(\"No of clusters = \" + str(n_clusters))"
      ],
      "metadata": {
        "id": "vFvC7e3Ll5Ke"
      },
      "execution_count": null,
      "outputs": []
    },
    {
      "cell_type": "markdown",
      "source": [
        "#### Fitting model"
      ],
      "metadata": {
        "id": "gvQco0skMHb5"
      }
    },
    {
      "cell_type": "code",
      "source": [
        "hierarchical = AgglomerativeClustering(n_clusters=3, affinity='euclidean', linkage='ward')\n",
        "y_fit = hierarchical.fit_predict(x_pca)\n",
        "\n",
        "#davies_bouldin_score of our clusters\n",
        "print(davies_bouldin_score(X, y_fit))"
      ],
      "metadata": {
        "id": "QSLrFfFEmMUr"
      },
      "execution_count": null,
      "outputs": []
    },
    {
      "cell_type": "markdown",
      "source": [
        "#### Plotting number of movies/TV Shows in each cluster"
      ],
      "metadata": {
        "id": "VqxR_Qy-MUwE"
      }
    },
    {
      "cell_type": "code",
      "source": [
        "# Adding a kmeans cluster number attribute\n",
        "df_Master['hierarchical_cluster'] = hierarchical.labels_\n",
        "\n",
        "fig, ax = plt.subplots(figsize=(5,3))\n",
        "sns.countplot(x='hierarchical_cluster', hue='type',lw=5, data=df_Master, ax=ax)"
      ],
      "metadata": {
        "id": "9TNcpyDNppgV"
      },
      "execution_count": null,
      "outputs": []
    },
    {
      "cell_type": "markdown",
      "source": [
        "#### Building a wordcloud"
      ],
      "metadata": {
        "id": "MfGZn9t2Mgrh"
      }
    },
    {
      "cell_type": "code",
      "source": [
        "# Building a wordcloud for the movie descriptions\n",
        "def hierarchical_worldcloud(cluster_num):\n",
        "  comment_words = ''\n",
        "  stopwords = set(STOPWORDS)\n",
        "\n",
        "  # iterate through the csv file\n",
        "  for val in df_Master[df_Master['hierarchical_cluster']==cluster_num].clusteringFeature.values:\n",
        "      val = str(val)\n",
        "      tokens = val.split()\n",
        "      for i in range(len(tokens)):\n",
        "          tokens[i] = tokens[i].lower()\n",
        "\n",
        "      comment_words += \" \".join(tokens)+\" \"\n",
        "\n",
        "  wordcloud = WordCloud(width = 1000, height = 700,background_color ='azure',stopwords = stopwords,min_font_size = 8).generate(comment_words)\n",
        "  print(\"CLUSTER NUMBER \"+ str( cluster_num+1) +\"\\n\\n\\n\")\n",
        "\n",
        "  # plot the WordCloud image\n",
        "  plt.figure(figsize = (10,5))\n",
        "  plt.imshow(wordcloud)\n",
        "  plt.axis(\"off\")"
      ],
      "metadata": {
        "id": "OwPYcejLqLWY"
      },
      "execution_count": null,
      "outputs": []
    },
    {
      "cell_type": "code",
      "source": [
        "hierarchical_worldcloud(0)"
      ],
      "metadata": {
        "id": "eIZkymjPqzNW"
      },
      "execution_count": null,
      "outputs": []
    },
    {
      "cell_type": "code",
      "source": [
        "hierarchical_worldcloud(1)"
      ],
      "metadata": {
        "id": "rNvq5PqKrzeE"
      },
      "execution_count": null,
      "outputs": []
    },
    {
      "cell_type": "code",
      "source": [
        "hierarchical_worldcloud(2)"
      ],
      "metadata": {
        "id": "6kFSGlIEsV_x"
      },
      "execution_count": null,
      "outputs": []
    },
    {
      "cell_type": "markdown",
      "source": [
        "## ***7.***Recommender System"
      ],
      "metadata": {
        "id": "EyNgTHvd2WFk"
      }
    },
    {
      "cell_type": "markdown",
      "source": [
        "#### Cosine Similarity"
      ],
      "metadata": {
        "id": "9-FtzoD6M9--"
      }
    },
    {
      "cell_type": "code",
      "source": [
        "# converting tokens to string\n",
        "\n",
        "def convert(lst):\n",
        "  return ' '.join(lst)\n",
        "\n",
        "df_Master['clusteringFeature'] = df_Master['clusteringFeature'].apply(lambda x: convert(x))\n",
        "\n",
        "# setting title of movies/Tv shows as index\n",
        "df_Master.set_index('title',inplace=True)\n",
        "\n",
        "CV = CountVectorizer()\n",
        "converted_matrix = CV.fit_transform(df_Master['clusteringFeature'])\n",
        "\n",
        "cosine_similarity = cosine_similarity(converted_matrix)\n",
        "cosine_similarity.shape"
      ],
      "metadata": {
        "id": "3uzHOQlcspu6"
      },
      "execution_count": null,
      "outputs": []
    },
    {
      "cell_type": "code",
      "source": [
        "# Developing a function to get 10 recommendations for a show\n",
        "indices = pd.Series(df_Master.index)\n",
        "\n",
        "def recommend_top10(title, cosine_sim = cosine_similarity):\n",
        "  try:\n",
        "    recommend_content = []\n",
        "    idx = indices[indices == title].index[0]\n",
        "    series = pd.Series(cosine_sim[idx]).sort_values(ascending = False)\n",
        "    top10 = list(series.iloc[1:11].index)\n",
        "\n",
        "    # list with the titles of the best 10 matching movies\n",
        "    for i in top10:\n",
        "      recommend_content.append(list(df_Master.index)[i])\n",
        "    print(\"If you like this '\"+title+\"', you may also enjoy:\\n\")\n",
        "    return recommend_content\n",
        "\n",
        "  except:\n",
        "    return 'Movie/Show not found'"
      ],
      "metadata": {
        "id": "VM4JHu54t6fv"
      },
      "execution_count": null,
      "outputs": []
    },
    {
      "cell_type": "code",
      "source": [
        "# Recommendations for 'Hamara Dil Aapke Paas Hai'\n",
        "recommend_top10('Hamara Dil Aapke Paas Hai')"
      ],
      "metadata": {
        "id": "MN8QdMTgt9Hh"
      },
      "execution_count": null,
      "outputs": []
    },
    {
      "cell_type": "code",
      "source": [
        "# Recommendations for 'How I met your mother'\n",
        "recommend_top10('The Smurfs')"
      ],
      "metadata": {
        "id": "ahCNfqufNRvH"
      },
      "execution_count": null,
      "outputs": []
    },
    {
      "cell_type": "code",
      "source": [
        "recommend_top10('Lakshya')"
      ],
      "metadata": {
        "id": "zrvub6BY4txs"
      },
      "execution_count": null,
      "outputs": []
    },
    {
      "cell_type": "code",
      "source": [
        "recommend_top10('A Cinderella Story: Christmas Wish')"
      ],
      "metadata": {
        "id": "gZpONzsADAOb"
      },
      "execution_count": null,
      "outputs": []
    },
    {
      "cell_type": "code",
      "source": [
        "recommend_top10('PK')"
      ],
      "metadata": {
        "id": "mhx-y2_WDqbu"
      },
      "execution_count": null,
      "outputs": []
    },
    {
      "cell_type": "markdown",
      "source": [
        "The Davies-Bouldin criterion is based on a ratio of within-cluster and between-cluster distances. The optimal clustering solution has the smallest Davies-Bouldin index value."
      ],
      "metadata": {
        "id": "Gbtv5PmGYCDL"
      }
    },
    {
      "cell_type": "code",
      "source": [
        "#function to find cluster number for recommended movies\n",
        "def findClusters(lst_Movies):\n",
        "  lst_Hier = []\n",
        "  lst_KMean = []\n",
        "  for mov in lst_Movies:\n",
        "    row = df_Master[(df_Master['title'] == mov)]\n",
        "    lst_Hier.append(row['hierarchical_cluster'])\n",
        "    lst_KMean.append(row['k_cluster'])\n",
        "  print(lst_Hier)\n",
        "  print(lst_KMean)"
      ],
      "metadata": {
        "id": "9TkbsPtkX9Ly"
      },
      "execution_count": null,
      "outputs": []
    },
    {
      "cell_type": "code",
      "source": [
        "df_Master = df_Master.reset_index()"
      ],
      "metadata": {
        "id": "eEXXu31HFhD0"
      },
      "execution_count": null,
      "outputs": []
    },
    {
      "cell_type": "code",
      "source": [
        "findClusters(['Aiyaary','Cold Harbour',\n",
        "               'The Cell','Pranaam','Mosul','Veerappan','Mauli',\n",
        "              'Pukar','Baahubali 2: The Conclusion (Hindi Version)',\n",
        "               'Baahubali 2: The Conclusion (Tamil Version)'])"
      ],
      "metadata": {
        "id": "x691tBM582v0"
      },
      "execution_count": null,
      "outputs": []
    },
    {
      "cell_type": "code",
      "source": [
        "findClusters(['Melle','Kajraare',\n",
        "              'Ram Jaane','Maya Memsaab','Rangreza',\n",
        "              'Gelo','One Night Stand','The Breakup Playlist',\n",
        "              'Dil Hai Tumhaara','Liefling'])"
      ],
      "metadata": {
        "id": "Rxv1a2iW-uLH"
      },
      "execution_count": null,
      "outputs": []
    },
    {
      "cell_type": "code",
      "source": [
        "findClusters([\"Mariah Carey's Merriest Christmas\",\n",
        " 'Christmas with the Kranks',\n",
        " 'DreamWorks Home: For the Holidays',\n",
        " 'Luccas Neto in: The End of Christmas',\n",
        " 'Luccas Neto em: Acampamento de Férias 2',\n",
        " 'The Wishing Tree',\n",
        " 'Pettersson and Findus 2',\n",
        " 'Hop',\n",
        " 'Barbie Princess Adventure',\n",
        " 'The App That Stole Christmas'])"
      ],
      "metadata": {
        "id": "eYwQ4L0g-wmZ"
      },
      "execution_count": null,
      "outputs": []
    },
    {
      "cell_type": "code",
      "source": [
        "findClusters(['The Smurfs 2',\n",
        " 'The Croods',\n",
        " 'Holly Star',\n",
        " 'Planet 51',\n",
        " 'Abominable Christmas',\n",
        " 'A Holiday Engagement',\n",
        " 'From Japan to Egypt',\n",
        " 'Dragons: Rescue Riders: Hunt for the Golden Dragon',\n",
        " 'Chitty Chitty Bang Bang',\n",
        " 'Little Lunch: The Halloween Horror Story'])"
      ],
      "metadata": {
        "id": "AcClylB0GOAu"
      },
      "execution_count": null,
      "outputs": []
    },
    {
      "cell_type": "markdown",
      "source": [
        "### 1. Which Evaluation metrics did you consider for a positive business impact and why?"
      ],
      "metadata": {
        "id": "YmuI9tm5RN_E"
      }
    },
    {
      "cell_type": "markdown",
      "source": [
        "**Silhouette Coefficient or silhouette score** is a metric used to calculate the goodness of a clustering technique. Its value ranges from -1 to 1. 1: Means clusters are well apart from each other and clearly distinguished.\n",
        "\n",
        "\n",
        "**Davies-Bouldin Index** measures the size of clusters against the average distance between clusters. A lower score signifies better-defined clusters. The Davies-Bouldin Index measures the average similarity between clusters, where similarity compares the size of clusters against the between-cluster distance.\n",
        "\n"
      ],
      "metadata": {
        "id": "ZpFHN12fR5Jg"
      }
    },
    {
      "cell_type": "markdown",
      "source": [
        "### 2. Which ML model did you choose from the above created models as your final prediction model and why?"
      ],
      "metadata": {
        "id": "J_W8cKY2R6G5"
      }
    },
    {
      "cell_type": "code",
      "source": [
        "print(\"******* K Means Clustering ***********\")\n",
        "\n",
        "#Silhouette Coefficient\n",
        "print(\"Silhouette Coefficient: %0.3f\"%silhouette_score(X,y_fit, metric='euclidean'))\n",
        "#davies_bouldin_score of our clusters\n",
        "print(\"Davies Bouldin Score: %0.3f\"%davies_bouldin_score(X, y_fit))\n",
        "\n",
        "print(\"\\n\\n******* Hierarchial Algorithm ***********\")\n",
        "\n",
        "#Silhouette Coefficient\n",
        "print(\"Silhouette Coefficient: %0.3f\"%silhouette_score(X,y_predict, metric='euclidean'))\n",
        "#davies_bouldin_score of our clusters\n",
        "print(\"Davies Bouldin Score: %0.3f\"%davies_bouldin_score(X, y_predict))\n"
      ],
      "metadata": {
        "id": "BuWHj6-9NwEk"
      },
      "execution_count": null,
      "outputs": []
    },
    {
      "cell_type": "markdown",
      "source": [
        "Comparing the Silhouette Coefficients, we can see that Hierarchial Clustering has a higher coefficient of 0.032 compared to K Means coefficient of 0.020.\n",
        "\n",
        "The Silhouette Coefficient measures the quality of individual clusters, with higher values indicating better clustering performance.\n",
        "Therefore, Hierarchial clustering appears to have slightly better-defined and more separated clusters based on the Silhouette Coefficient.\n",
        "\n",
        "However, we should also consider the Davies-Bouldin scores. In this case, K Means clustering has a lower Davies Bouldin Score of 4.983, whereas Hierarchial Clustering has a higher score of 6.123. The Davies-Bouldin score measures the overall quality of clustering, with lower values indicating better clustering performance.\n",
        "Hence, K Means clustering has a lower Davies-Bouldin score, suggesting better overall clustering performance.\n",
        "\n",
        "When considering both metrics, it seems that K Means clustering performs better based on the lower Davies-Bouldin score, despite having a lower Silhouette Coefficient compared to Hierarchial Clustering."
      ],
      "metadata": {
        "id": "9zTNGVEVPsa7"
      }
    },
    {
      "cell_type": "markdown",
      "source": [
        "# **Conclusion**"
      ],
      "metadata": {
        "id": "gCX9965dhzqZ"
      }
    },
    {
      "cell_type": "markdown",
      "source": [
        "In this project, I worked on a text clustering problem wherein I had to classify/group the Netflix shows\n",
        "into certain clusters such that the shows within a cluster are similar to each other and the shows in different\n",
        "clusters are dissimilar to each other.\n",
        "\n",
        "• The dataset contained about 7787 records, and 11 attributes. I began by dealing with the dataset's\n",
        "missing values and doing exploratory data analysis (EDA).\n",
        "\n",
        "• It was decided to cluster the data based on the attributes: director, cast, country, genre, rating and\n",
        "description. The values in these attributes were tokenized, preprocessed, and then vectorized using TFIDF\n",
        "vectorizer.\n",
        "\n",
        "• We first built clusters using the K-Means Clustering algorithm, and the optimal number of clusters came out\n",
        "to be 6.\n",
        "This was obtained through the elbow method and Silhouette score analysis.\n",
        "\n",
        "• Then clusters were built using the Agglomerative clustering algorithm, and the optimal number of clusters\n",
        "came out to be 3.\n",
        " This was obtained after visualizing the dendrogram.\n",
        "\n",
        "• A content-based recommender system was built using the similarity matrix obtained after using cosine\n",
        "similarity.\n",
        "This recommender system will make 10 recommendations to the user based on the type of show\n",
        "they watched.\n",
        "\n",
        "\n",
        "**Observations**\n",
        "\n",
        "● from elbow and sillhoute score ,optimal of 6 clusters formed , K Means is best for\n",
        "identification than Hierarchical as the evaluation metrics also indicates the same.\n",
        "\n",
        "● Netflix has 5372 movies and 2398 TV shows, there are more movies on Netflix than TV\n",
        "shows.\n",
        "\n",
        "● TV-MA has the highest number of ratings for tv shows i,e adult ratings\n",
        "\n",
        "● Highest number of movies released in 2017 and 2018 highest number of movies released in 2020.\n",
        "\n",
        "● The most content is added to Netflix from october to january\n",
        "\n",
        "● Documentaries are the top most genre in netflix which is followed by standup comedy and\n",
        "Drama and international movies\n",
        "\n",
        "● Kids tv is the top most TV show genre in Netflix\n",
        "\n",
        "● Most of the movies have duration of between 50 to 150\n",
        "\n",
        "● Highest number of tv_shows consisting of single season\n",
        "\n",
        "● United States has the highest number of content on the netflix ,followed by UK and India\n"
      ],
      "metadata": {
        "id": "Fjb1IsQkh3yE"
      }
    },
    {
      "cell_type": "markdown",
      "source": [
        "### ***Hurrah! You have successfully completed your Machine Learning Capstone Project !!!***"
      ],
      "metadata": {
        "id": "gIfDvo9L0UH2"
      }
    }
  ]
}